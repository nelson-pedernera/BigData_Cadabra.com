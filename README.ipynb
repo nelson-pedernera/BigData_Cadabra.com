{
 "cells": [
  {
   "cell_type": "markdown",
   "metadata": {},
   "source": [
    "https://github.com/nelson-pedernera/BigData_Cadabra.com  \n",
    "https://github.com/nelson-pedernera/The-Stolen-Crown-RPG  "
   ]
  },
  {
   "cell_type": "code",
   "execution_count": null,
   "metadata": {},
   "outputs": [],
   "source": []
  },
  {
   "cell_type": "markdown",
   "metadata": {},
   "source": [
    "AWS Big Data Cadabra.com\n",
    "====================\n",
    "This repository contains the architecture for the Cadabra.com site, an huge e-commerce company.  \n",
    "![Alt text](00_Readme/Requirement_0_Cadabra_com.png)  \n"
   ]
  },
  {
   "cell_type": "markdown",
   "metadata": {},
   "source": [
    "  \n",
    "We're going to work through six different requirements for building up Cadabra.com  \n",
    "* Requirement 1: Order history app\n",
    "  * Kinesis Agent\n",
    "  * Kinesis Firehose\n",
    "  * EC2\n",
    "  * S3\n",
    "  * CloudFormation  \n",
    "   \n",
    "* Requirement 2: Product recommendations\n",
    "* Requirement 3: Transaction rate alarm\n",
    "* Requirement 4: Near-real-time log analysis\n",
    "* Requirement 5: Data warehousing & visualization\n",
    "* Requirement 6: Putting it all together\n",
    "![Alt text](00_Readme/Requirement_6_Putting_it_all_together.png)  \n"
   ]
  },
  {
   "cell_type": "code",
   "execution_count": null,
   "metadata": {},
   "outputs": [],
   "source": [
    "<> (![Alt text](00_Readme/Requirement_1_Order_history_app.png))  \n",
    "  ![Alt text](00_Readme/Requirement_1_Order_history_app.png)\n",
    "![Alt text](00_Readme/Requirement_0_Cadabra_com.png)  \n",
    "<div>\n",
    "<img src=\"00_Readme/Requirement_1_Order_history_app.png\" width=\"500\" align=\"left\"/>\n",
    "</div>"
   ]
  }
 ],
 "metadata": {
  "kernelspec": {
   "display_name": "Python 3",
   "language": "python",
   "name": "python3"
  },
  "language_info": {
   "codemirror_mode": {
    "name": "ipython",
    "version": 3
   },
   "file_extension": ".py",
   "mimetype": "text/x-python",
   "name": "python",
   "nbconvert_exporter": "python",
   "pygments_lexer": "ipython3",
   "version": "3.6.8"
  }
 },
 "nbformat": 4,
 "nbformat_minor": 2
}
